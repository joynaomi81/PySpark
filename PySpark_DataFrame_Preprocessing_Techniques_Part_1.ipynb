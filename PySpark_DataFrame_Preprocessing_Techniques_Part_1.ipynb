{
  "nbformat": 4,
  "nbformat_minor": 0,
  "metadata": {
    "colab": {
      "provenance": [],
      "mount_file_id": "1uVYwtWU1g4XFO8l_ZVaW-jl7eI703jqU",
      "authorship_tag": "ABX9TyN3TySMLG82ZRLchitCQAdy",
      "include_colab_link": true
    },
    "kernelspec": {
      "name": "python3",
      "display_name": "Python 3"
    },
    "language_info": {
      "name": "python"
    }
  },
  "cells": [
    {
      "cell_type": "markdown",
      "metadata": {
        "id": "view-in-github",
        "colab_type": "text"
      },
      "source": [
        "<a href=\"https://colab.research.google.com/github/joynaomi81/PySpark/blob/main/PySpark_DataFrame_Preprocessing_Techniques_Part_1.ipynb\" target=\"_parent\"><img src=\"https://colab.research.google.com/assets/colab-badge.svg\" alt=\"Open In Colab\"/></a>"
      ]
    },
    {
      "cell_type": "code",
      "execution_count": 70,
      "metadata": {
        "colab": {
          "base_uri": "https://localhost:8080/"
        },
        "id": "oSc6bPHEOurW",
        "outputId": "95f0b657-03c1-431c-8c0b-27f436de5be9"
      },
      "outputs": [
        {
          "output_type": "stream",
          "name": "stdout",
          "text": [
            "Requirement already satisfied: pyspark in /usr/local/lib/python3.11/dist-packages (3.5.5)\n",
            "Requirement already satisfied: py4j==0.10.9.7 in /usr/local/lib/python3.11/dist-packages (from pyspark) (0.10.9.7)\n"
          ]
        }
      ],
      "source": [
        "!pip install pyspark"
      ]
    },
    {
      "cell_type": "code",
      "source": [
        "import pyspark\n",
        "from pyspark.sql import SparkSession\n",
        "spark=SparkSession.builder.appName('Explore').getOrCreate()\n"
      ],
      "metadata": {
        "id": "Eu4LYcqYPLO9"
      },
      "execution_count": 71,
      "outputs": []
    },
    {
      "cell_type": "code",
      "source": [
        "df_pyspark=spark.read.csv(\"/content/drive/MyDrive/Text to emotion.csv\")"
      ],
      "metadata": {
        "id": "-a73vCQgQyPk"
      },
      "execution_count": 72,
      "outputs": []
    },
    {
      "cell_type": "code",
      "source": [
        "df_pyspark=spark.read.option('header','true').csv('/content/drive/MyDrive/Text to emotion.csv')"
      ],
      "metadata": {
        "id": "H7MHG-YHRvRF"
      },
      "execution_count": 73,
      "outputs": []
    },
    {
      "cell_type": "code",
      "source": [
        " df_pyspark.show()"
      ],
      "metadata": {
        "colab": {
          "base_uri": "https://localhost:8080/"
        },
        "collapsed": true,
        "id": "UnXIs-xfRmc1",
        "outputId": "c3390358-d843-41c3-d3e5-e4e3f6f21055"
      },
      "execution_count": 74,
      "outputs": [
        {
          "output_type": "stream",
          "name": "stdout",
          "text": [
            "+--------------------+-------+\n",
            "|                text|emotion|\n",
            "+--------------------+-------+\n",
            "|         i feel cold|  ANGER|\n",
            "|i feel the cold i...|  ANGER|\n",
            "|i remember feelin...|  ANGER|\n",
            "|i hate too is ste...|  ANGER|\n",
            "|i don't think i a...|  ANGER|\n",
            "|i feel like i'm g...|  ANGER|\n",
            "|i could feel his ...|  ANGER|\n",
            "|      i feel is cold|  ANGER|\n",
            "|i mean you all al...|  ANGER|\n",
            "|i feel the cold i...|  ANGER|\n",
            "|i am so glad i fo...|  ANGER|\n",
            "|i feel quite cold...|  ANGER|\n",
            "|i feel so cold i ...|  ANGER|\n",
            "|i can t do this a...|  ANGER|\n",
            "|i wasn t feeling ...|  ANGER|\n",
            "|i stood there fee...|  ANGER|\n",
            "|i do not feel wan...|  ANGER|\n",
            "|i believed that y...|  ANGER|\n",
            "|i can hardly feel...|  ANGER|\n",
            "|i really missed f...|  ANGER|\n",
            "+--------------------+-------+\n",
            "only showing top 20 rows\n",
            "\n"
          ]
        }
      ]
    },
    {
      "cell_type": "code",
      "source": [
        "print(type(df_pyspark))"
      ],
      "metadata": {
        "colab": {
          "base_uri": "https://localhost:8080/"
        },
        "id": "sP8iN4r0SHnf",
        "outputId": "ef0d0bba-82b2-4910-b2fc-1cb94eea54eb"
      },
      "execution_count": 75,
      "outputs": [
        {
          "output_type": "stream",
          "name": "stdout",
          "text": [
            "<class 'pyspark.sql.dataframe.DataFrame'>\n"
          ]
        }
      ]
    },
    {
      "cell_type": "code",
      "source": [
        "df_pyspark.head()"
      ],
      "metadata": {
        "colab": {
          "base_uri": "https://localhost:8080/"
        },
        "id": "SXoxYc6fSuBn",
        "outputId": "83b354bf-c607-424f-fcfb-4775fcb0658a"
      },
      "execution_count": 76,
      "outputs": [
        {
          "output_type": "execute_result",
          "data": {
            "text/plain": [
              "Row(text='i feel cold', emotion='ANGER')"
            ]
          },
          "metadata": {},
          "execution_count": 76
        }
      ]
    },
    {
      "cell_type": "code",
      "source": [
        "# How to check the datatypes of column using(Schema)\n",
        "df_pyspark.printSchema()"
      ],
      "metadata": {
        "colab": {
          "base_uri": "https://localhost:8080/"
        },
        "id": "djoi-kOgTAxy",
        "outputId": "19592f25-8f18-4213-d5b6-3ab71ae68c5e"
      },
      "execution_count": 77,
      "outputs": [
        {
          "output_type": "stream",
          "name": "stdout",
          "text": [
            "root\n",
            " |-- text: string (nullable = true)\n",
            " |-- emotion: string (nullable = true)\n",
            "\n"
          ]
        }
      ]
    },
    {
      "cell_type": "code",
      "source": [
        "df_pyspark = spark.read.csv('/content/drive/MyDrive/Text to emotion.csv', header=True, inferSchema=True)\n",
        "df_pyspark.show()"
      ],
      "metadata": {
        "colab": {
          "base_uri": "https://localhost:8080/"
        },
        "id": "bualNPACT13V",
        "outputId": "da865ecf-63a5-4792-f906-508643b4fe79"
      },
      "execution_count": 78,
      "outputs": [
        {
          "output_type": "stream",
          "name": "stdout",
          "text": [
            "+--------------------+-------+\n",
            "|                text|emotion|\n",
            "+--------------------+-------+\n",
            "|         i feel cold|  ANGER|\n",
            "|i feel the cold i...|  ANGER|\n",
            "|i remember feelin...|  ANGER|\n",
            "|i hate too is ste...|  ANGER|\n",
            "|i don't think i a...|  ANGER|\n",
            "|i feel like i'm g...|  ANGER|\n",
            "|i could feel his ...|  ANGER|\n",
            "|      i feel is cold|  ANGER|\n",
            "|i mean you all al...|  ANGER|\n",
            "|i feel the cold i...|  ANGER|\n",
            "|i am so glad i fo...|  ANGER|\n",
            "|i feel quite cold...|  ANGER|\n",
            "|i feel so cold i ...|  ANGER|\n",
            "|i can t do this a...|  ANGER|\n",
            "|i wasn t feeling ...|  ANGER|\n",
            "|i stood there fee...|  ANGER|\n",
            "|i do not feel wan...|  ANGER|\n",
            "|i believed that y...|  ANGER|\n",
            "|i can hardly feel...|  ANGER|\n",
            "|i really missed f...|  ANGER|\n",
            "+--------------------+-------+\n",
            "only showing top 20 rows\n",
            "\n"
          ]
        }
      ]
    },
    {
      "cell_type": "code",
      "source": [
        "#Check for columns\n",
        "df_pyspark.columns"
      ],
      "metadata": {
        "colab": {
          "base_uri": "https://localhost:8080/"
        },
        "id": "cKiny8sIUU37",
        "outputId": "d61c23c3-e699-4381-c239-5e279c9a9746"
      },
      "execution_count": 79,
      "outputs": [
        {
          "output_type": "execute_result",
          "data": {
            "text/plain": [
              "['text', 'emotion']"
            ]
          },
          "metadata": {},
          "execution_count": 79
        }
      ]
    },
    {
      "cell_type": "code",
      "source": [
        "#how to select a column\n",
        "df_pyspark.select('Text')"
      ],
      "metadata": {
        "colab": {
          "base_uri": "https://localhost:8080/"
        },
        "id": "BJOOfvYrUhD7",
        "outputId": "2706c678-50e2-4b1b-f8ce-0754a22127a8"
      },
      "execution_count": 80,
      "outputs": [
        {
          "output_type": "execute_result",
          "data": {
            "text/plain": [
              "DataFrame[Text: string]"
            ]
          },
          "metadata": {},
          "execution_count": 80
        }
      ]
    },
    {
      "cell_type": "code",
      "source": [
        "# How to check describe option\n",
        "df_pyspark.describe()"
      ],
      "metadata": {
        "colab": {
          "base_uri": "https://localhost:8080/"
        },
        "id": "Kp8ILfLdVXe0",
        "outputId": "df2e0559-769b-4ef6-dede-b7e63f7db9f1"
      },
      "execution_count": 81,
      "outputs": [
        {
          "output_type": "execute_result",
          "data": {
            "text/plain": [
              "DataFrame[summary: string, text: string, emotion: string]"
            ]
          },
          "metadata": {},
          "execution_count": 81
        }
      ]
    },
    {
      "source": [
        "# How to add columns in dataframe\n",
        "df_pyspark = df_pyspark.withColumn('label', df_pyspark['emotion'] + 2).show()"
      ],
      "cell_type": "code",
      "metadata": {
        "colab": {
          "base_uri": "https://localhost:8080/"
        },
        "id": "G3n-U9xGWLFV",
        "outputId": "33a9b5c5-7a36-46b6-be42-32ca4fdd1ccf"
      },
      "execution_count": 82,
      "outputs": [
        {
          "output_type": "stream",
          "name": "stdout",
          "text": [
            "+--------------------+-------+-----+\n",
            "|                text|emotion|label|\n",
            "+--------------------+-------+-----+\n",
            "|         i feel cold|  ANGER| NULL|\n",
            "|i feel the cold i...|  ANGER| NULL|\n",
            "|i remember feelin...|  ANGER| NULL|\n",
            "|i hate too is ste...|  ANGER| NULL|\n",
            "|i don't think i a...|  ANGER| NULL|\n",
            "|i feel like i'm g...|  ANGER| NULL|\n",
            "|i could feel his ...|  ANGER| NULL|\n",
            "|      i feel is cold|  ANGER| NULL|\n",
            "|i mean you all al...|  ANGER| NULL|\n",
            "|i feel the cold i...|  ANGER| NULL|\n",
            "|i am so glad i fo...|  ANGER| NULL|\n",
            "|i feel quite cold...|  ANGER| NULL|\n",
            "|i feel so cold i ...|  ANGER| NULL|\n",
            "|i can t do this a...|  ANGER| NULL|\n",
            "|i wasn t feeling ...|  ANGER| NULL|\n",
            "|i stood there fee...|  ANGER| NULL|\n",
            "|i do not feel wan...|  ANGER| NULL|\n",
            "|i believed that y...|  ANGER| NULL|\n",
            "|i can hardly feel...|  ANGER| NULL|\n",
            "|i really missed f...|  ANGER| NULL|\n",
            "+--------------------+-------+-----+\n",
            "only showing top 20 rows\n",
            "\n"
          ]
        }
      ]
    }
  ]
}