{
  "nbformat": 4,
  "nbformat_minor": 0,
  "metadata": {
    "colab": {
      "provenance": [],
      "mount_file_id": "1SDRl9k9qGZLF5-cz4T-F2coG0Omq4PNG",
      "authorship_tag": "ABX9TyNx+dCAK3iyoIlBluujwrox",
      "include_colab_link": true
    },
    "kernelspec": {
      "name": "python3",
      "display_name": "Python 3"
    },
    "language_info": {
      "name": "python"
    }
  },
  "cells": [
    {
      "cell_type": "markdown",
      "metadata": {
        "id": "view-in-github",
        "colab_type": "text"
      },
      "source": [
        "<a href=\"https://colab.research.google.com/github/joynaomi81/PySpark/blob/main/PySpark_GroupBy_And_Agggregate_Functions.ipynb\" target=\"_parent\"><img src=\"https://colab.research.google.com/assets/colab-badge.svg\" alt=\"Open In Colab\"/></a>"
      ]
    },
    {
      "cell_type": "code",
      "source": [
        "from pyspark.sql import SparkSession"
      ],
      "metadata": {
        "id": "zFQUiAvIqyLi"
      },
      "execution_count": 2,
      "outputs": []
    },
    {
      "cell_type": "code",
      "source": [
        "spark=SparkSession.builder.appName('Aggregate').getOrCreate()"
      ],
      "metadata": {
        "id": "uR21fTMCrphg"
      },
      "execution_count": 5,
      "outputs": []
    },
    {
      "cell_type": "code",
      "source": [
        "df=spark.read.csv('/content/drive/MyDrive/Sales.csv',inferSchema=True,header=True)\n",
        "df.show()\n",
        "df.printSchema()"
      ],
      "metadata": {
        "colab": {
          "base_uri": "https://localhost:8080/"
        },
        "id": "qK3kovGhpcQQ",
        "outputId": "9e614f75-4e83-4e0e-d72c-9e1f56d660a7"
      },
      "execution_count": 8,
      "outputs": [
        {
          "output_type": "stream",
          "name": "stdout",
          "text": [
            "+-------+-----------------+---------------+------+-------+------+------+-------------+--------------+--------------------+--------+-------------------+\n",
            "| Brands|           Models|         Colors|Memory|Storage|Camera|Rating|Selling Price|Original Price|              Mobile|Discount|discount percentage|\n",
            "+-------+-----------------+---------------+------+-------+------+------+-------------+--------------+--------------------+--------+-------------------+\n",
            "|SAMSUNG|     GALAXY M31S |   Mirage Black|  8 GB| 128 GB|   Yes|   4.3|        19330|         20999|SAMSUNG GALAXY M31S |    1669|  7.947997523691604|\n",
            "|  Nokia|              3.2|          Steel|  2 GB|  16 GB|   Yes|   3.8|        10199|         10199|           Nokia 3.2|       0|                0.0|\n",
            "| realme|              C2 |  Diamond Black|  2 GB|   NULL|   Yes|   4.4|         6999|          7999|          realme C2 |    1000| 12.501562695336919|\n",
            "|Infinix|           Note 5|       Ice Blue|  4 GB|  64 GB|   Yes|   4.2|        12999|         12999|      Infinix Note 5|       0|                0.0|\n",
            "|  Apple|       iPhone 11 |          Black|   4GB|  64 GB|   Yes|   4.6|        49900|         49900|    Apple iPhone 11 |       0|                0.0|\n",
            "| GIONEE|             L800|          Black|  8 MB|  16 MB|   Yes|   4.0|         2199|          2199|         GIONEE L800|       0|                0.0|\n",
            "|  Apple|  iPhone 13 Mini |           Pink|  6 GB| 512 GB|   Yes|  NULL|        99900|         99900|Apple iPhone 13 M...|       0|                0.0|\n",
            "|  Apple|       iPhone XR |          Coral|  3 GB|  64 GB|   Yes|   4.6|        42999|         47900|    Apple iPhone XR |    4901| 10.231732776617953|\n",
            "|SAMSUNG|       Galaxy E5 |          Brown|1.5 GB|  16 GB|   Yes|   4.2|        20400|         20400|  SAMSUNG Galaxy E5 |       0|                0.0|\n",
            "| Xiaomi|Redmi Note 11T 5G|Aquamarine Blue|  8 GB| 128 GB|   Yes|   4.3|        21736|         22999|Xiaomi Redmi Note...|    1263|  5.491543110570025|\n",
            "|SAMSUNG|      Galaxy A12 |          Black|  4 GB|  64 GB|   Yes|   4.2|        11989|         11989| SAMSUNG Galaxy A12 |       0|                0.0|\n",
            "|  Apple|       iPhone 11 |            Red|   4GB| 256 GB|   Yes|   4.6|        64900|         64900|    Apple iPhone 11 |       0|                0.0|\n",
            "| realme|           X7 5G |         Nebula|  6 GB| 128 GB|   Yes|   4.3|        19999|         21999|       realme X7 5G |    2000|  9.091322332833311|\n",
            "|   OPPO|              A33|Moonlight Black|  3 GB|  32 GB|   Yes|   4.3|        10490|         12990|            OPPO A33|    2500|  19.24557351809084|\n",
            "|   vivo|           V23 5G|  Sunshine Gold|  8 GB| 128 GB|   Yes|   4.4|        29990|         34990|         vivo V23 5G|    5000| 14.289797084881394|\n",
            "|   vivo|       Y20A 2021 |    Nebula Blue|  NULL|  64 GB|   Yes|   3.8|        39990|         46990|     vivo Y20A 2021 |    7000| 14.896786550329857|\n",
            "|  Apple|  iPhone 13 Mini |           Pink|  6 GB| 512 GB|   Yes|  NULL|        99900|         99900|Apple iPhone 13 M...|       0|                0.0|\n",
            "|SAMSUNG|  Galaxy J2 Core |           Gold|  1 GB|  16 GB|   Yes|   4.2|         6999|          6999|SAMSUNG Galaxy J2...|       0|                0.0|\n",
            "| Lenovo|        K10 Plus |         Sprite|  4 GB|  64 GB|   Yes|   4.1|        13999|         13999|    Lenovo K10 Plus |       0|                0.0|\n",
            "|   ASUS|     Zenfone Max |           Blue|  2 GB|  32 GB|   Yes|   4.1|         7699|          7699|   ASUS Zenfone Max |       0|                0.0|\n",
            "+-------+-----------------+---------------+------+-------+------+------+-------------+--------------+--------------------+--------+-------------------+\n",
            "only showing top 20 rows\n",
            "\n",
            "root\n",
            " |-- Brands: string (nullable = true)\n",
            " |-- Models: string (nullable = true)\n",
            " |-- Colors: string (nullable = true)\n",
            " |-- Memory: string (nullable = true)\n",
            " |-- Storage: string (nullable = true)\n",
            " |-- Camera: string (nullable = true)\n",
            " |-- Rating: double (nullable = true)\n",
            " |-- Selling Price: integer (nullable = true)\n",
            " |-- Original Price: integer (nullable = true)\n",
            " |-- Mobile: string (nullable = true)\n",
            " |-- Discount: integer (nullable = true)\n",
            " |-- discount percentage: double (nullable = true)\n",
            "\n"
          ]
        }
      ]
    },
    {
      "cell_type": "code",
      "source": [
        "# Groupby\n",
        "df.groupBy('Brands').sum().show()"
      ],
      "metadata": {
        "colab": {
          "base_uri": "https://localhost:8080/"
        },
        "id": "-83Kx73auG4k",
        "outputId": "5138d3b3-9cad-4fa7-d654-54df26bf238b"
      },
      "execution_count": 12,
      "outputs": [
        {
          "output_type": "stream",
          "name": "stdout",
          "text": [
            "+------------+------------------+------------------+-------------------+-------------+------------------------+\n",
            "|      Brands|       sum(Rating)|sum(Selling Price)|sum(Original Price)|sum(Discount)|sum(discount percentage)|\n",
            "+------------+------------------+------------------+-------------------+-------------+------------------------+\n",
            "|     Infinix| 645.7999999999997|           1674919|            1814731|       139812|      1038.4863021331373|\n",
            "|       Nokia| 752.1000000000006|           2008304|            2167145|       158841|      1061.9249617667087|\n",
            "|      GIONEE| 489.1000000000004|            920427|            1008601|        88174|       761.2350798848641|\n",
            "|    Motorola| 426.6999999999999|           1717534|            2171543|       454009|      1338.8224848128689|\n",
            "|        OPPO|1078.8999999999976|           4825727|            5358929|       533202|      2215.2468982601536|\n",
            "|      Xiaomi| 826.4999999999997|           3354498|            3534944|       180446|       813.0713240102104|\n",
            "|      Lenovo| 477.0000000000002|           1220145|            1252412|        32267|       292.1519832166287|\n",
            "|        vivo| 508.3999999999998|           2959414|            3169800|       210386|       703.7594821517669|\n",
            "|         HTC|218.29999999999998|           1557291|            1557291|            0|                     0.0|\n",
            "|          LG|             390.2|           1912995|            2214410|       301415|        863.085804698607|\n",
            "|        ASUS| 453.2000000000003|           2398576|            2547076|       148500|      212.64663394997734|\n",
            "|       Apple| 1526.399999999998|          31728412|           32863023|      1134611|      1500.7183999395638|\n",
            "|        POCO|320.30000000000007|           1248426|            1441926|       193500|      1061.6661563219086|\n",
            "|      realme|1356.9999999999998|           5361667|            5833070|       471403|      2832.5501489944113|\n",
            "|     SAMSUNG| 2979.400000000004|          17469003|           19292230|      1823227|       4153.576899161685|\n",
            "|        IQOO|              22.0|            185950|             204950|        19000|       45.32813296915928|\n",
            "|Google Pixel|             130.7|           1780364|            1798354|        17990|       59.98666222074025|\n",
            "+------------+------------------+------------------+-------------------+-------------+------------------------+\n",
            "\n"
          ]
        }
      ]
    },
    {
      "cell_type": "code",
      "source": [
        "df.groupBy('Models').sum().show()"
      ],
      "metadata": {
        "colab": {
          "base_uri": "https://localhost:8080/"
        },
        "id": "hdojb1CbwSQN",
        "outputId": "03a30726-24c5-48b5-c76d-65f2b92ac015"
      },
      "execution_count": 13,
      "outputs": [
        {
          "output_type": "stream",
          "name": "stdout",
          "text": [
            "+--------------------+------------------+------------------+-------------------+-------------+------------------------+\n",
            "|              Models|       sum(Rating)|sum(Selling Price)|sum(Original Price)|sum(Discount)|sum(discount percentage)|\n",
            "+--------------------+------------------+------------------+-------------------+-------------+------------------------+\n",
            "|                 A1 |              12.0|             37073|              38397|         1324|      14.712745860651182|\n",
            "|         One Action |               8.4|             21998|              33998|        12000|       70.59238778751691|\n",
            "|        Reno6 Pro 5G|13.200000000000001|            121970|             139970|        18000|      38.491116044777996|\n",
            "|               XR 20|               4.3|             46988|              46988|            0|                     0.0|\n",
            "|                 V7+|               4.4|             22099|              22221|          122|      0.5490301966608163|\n",
            "|                C25 |              17.6|             41996|              45996|         4000|       34.85152689596273|\n",
            "|               XT502|               3.8|             15990|              15990|            0|                     0.0|\n",
            "|             Hot 10S|              34.4|             83992|             107992|        24000|      178.03520204626398|\n",
            "|                F19s|              NULL|             39980|              45980|         6000|      26.098303610265333|\n",
            "|  S90 Or Sisley S90 |               3.6|             12999|              12999|            0|                     0.0|\n",
            "|        Reno5 Pro 5G|               8.8|             71980|              77980|         6000|      15.388561169530648|\n",
            "|      Galaxy J2 Ace |12.299999999999999|             24270|              24270|            0|                     0.0|\n",
            "|              S5 Pro|13.200000000000001|             38997|              38997|            0|                     0.0|\n",
            "|              ROG 5s|              NULL|            215996|             239996|        24000|      40.179247061793575|\n",
            "|              A5000 |               8.0|             16498|              16498|            0|                     0.0|\n",
            "|Galaxy Grand Neo ...|              12.0|             18997|              18997|            0|                     0.0|\n",
            "|      225 4G DS 2020|               7.4|              8298|               8798|          500|      11.366219595362583|\n",
            "|         Galaxy M01 |               8.4|             18770|              18770|            0|                     0.0|\n",
            "|             F11 Pro|              22.5|             84850|             147950|        63100|      213.17546230484325|\n",
            "|           G9 Power |               8.2|             23998|              31998|         8000|       50.00312519532471|\n",
            "+--------------------+------------------+------------------+-------------------+-------------+------------------------+\n",
            "only showing top 20 rows\n",
            "\n"
          ]
        }
      ]
    },
    {
      "cell_type": "code",
      "source": [
        "df.groupBy('Models').mean().show()"
      ],
      "metadata": {
        "colab": {
          "base_uri": "https://localhost:8080/"
        },
        "id": "QsCj-jMTw0LM",
        "outputId": "ea97736b-ffae-4f93-f84f-2a458cad7d7b"
      },
      "execution_count": 14,
      "outputs": [
        {
          "output_type": "stream",
          "name": "stdout",
          "text": [
            "+--------------------+-----------+------------------+-------------------+-----------------+------------------------+\n",
            "|              Models|avg(Rating)|avg(Selling Price)|avg(Original Price)|    avg(Discount)|avg(discount percentage)|\n",
            "+--------------------+-----------+------------------+-------------------+-----------------+------------------------+\n",
            "|                 A1 |        4.0|12357.666666666666|            12799.0|441.3333333333333|       4.904248620217061|\n",
            "|         One Action |        4.2|           10999.0|            16999.0|           6000.0|      35.296193893758456|\n",
            "|        Reno6 Pro 5G|        4.4|40656.666666666664| 46656.666666666664|           6000.0|      12.830372014925999|\n",
            "|               XR 20|        4.3|           46988.0|            46988.0|              0.0|                     0.0|\n",
            "|                 V7+|        4.4|           22099.0|            22221.0|            122.0|      0.5490301966608163|\n",
            "|                C25 |        4.4|           10499.0|            11499.0|           1000.0|       8.712881723990682|\n",
            "|               XT502|        3.8|           15990.0|            15990.0|              0.0|                     0.0|\n",
            "|             Hot 10S|        4.3|           10499.0|            13499.0|           3000.0|      22.254400255782997|\n",
            "|                F19s|       NULL|           19990.0|            22990.0|           3000.0|      13.049151805132666|\n",
            "|  S90 Or Sisley S90 |        3.6|           12999.0|            12999.0|              0.0|                     0.0|\n",
            "|        Reno5 Pro 5G|        4.4|           35990.0|            38990.0|           3000.0|       7.694280584765324|\n",
            "|      Galaxy J2 Ace |        4.1|            8090.0|             8090.0|              0.0|                     0.0|\n",
            "|              S5 Pro|        4.4|           12999.0|            12999.0|              0.0|                     0.0|\n",
            "|              ROG 5s|       NULL|           53999.0|            59999.0|           6000.0|      10.044811765448394|\n",
            "|              A5000 |        4.0|            8249.0|             8249.0|              0.0|                     0.0|\n",
            "|Galaxy Grand Neo ...|        4.0| 6332.333333333333|  6332.333333333333|              0.0|                     0.0|\n",
            "|      225 4G DS 2020|        3.7|            4149.0|             4399.0|            250.0|       5.683109797681292|\n",
            "|         Galaxy M01 |        4.2|            9385.0|             9385.0|              0.0|                     0.0|\n",
            "|             F11 Pro|        4.5|           16970.0|            29590.0|          12620.0|       42.63509246096865|\n",
            "|           G9 Power |        4.1|           11999.0|            15999.0|           4000.0|      25.001562597662353|\n",
            "+--------------------+-----------+------------------+-------------------+-----------------+------------------------+\n",
            "only showing top 20 rows\n",
            "\n"
          ]
        }
      ]
    },
    {
      "cell_type": "code",
      "source": [
        "df.groupBy('Models').count().show()"
      ],
      "metadata": {
        "colab": {
          "base_uri": "https://localhost:8080/"
        },
        "id": "fFdZPqiLw7wy",
        "outputId": "5dc3555e-570a-4231-f1ea-5d789e275504"
      },
      "execution_count": 15,
      "outputs": [
        {
          "output_type": "stream",
          "name": "stdout",
          "text": [
            "+--------------------+-----+\n",
            "|              Models|count|\n",
            "+--------------------+-----+\n",
            "|                 A1 |    3|\n",
            "|         One Action |    2|\n",
            "|        Reno6 Pro 5G|    3|\n",
            "|               XR 20|    1|\n",
            "|                 V7+|    1|\n",
            "|                C25 |    4|\n",
            "|               XT502|    1|\n",
            "|             Hot 10S|    8|\n",
            "|                F19s|    2|\n",
            "|  S90 Or Sisley S90 |    1|\n",
            "|        Reno5 Pro 5G|    2|\n",
            "|      Galaxy J2 Ace |    3|\n",
            "|              S5 Pro|    3|\n",
            "|              ROG 5s|    4|\n",
            "|              A5000 |    2|\n",
            "|Galaxy Grand Neo ...|    3|\n",
            "|      225 4G DS 2020|    2|\n",
            "|         Galaxy M01 |    2|\n",
            "|             F11 Pro|    5|\n",
            "|           G9 Power |    2|\n",
            "+--------------------+-----+\n",
            "only showing top 20 rows\n",
            "\n"
          ]
        }
      ]
    }
  ]
}